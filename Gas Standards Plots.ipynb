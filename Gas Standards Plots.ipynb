{
 "cells": [
  {
   "cell_type": "markdown",
   "id": "76b518b9-db38-4652-aa46-7e568d0dec2a",
   "metadata": {},
   "source": [
    "# Gas Standards Plots\n",
    "Generates plots plots related to gas standards for use in ICOS Labelling reports.\n",
    "\n",
    "## Initial Setup\n",
    "Instructions for setting up in a virtual environment (venv). To be run from the folder containing the notebooks.\n",
    "\n",
    "1. `python -m venv .venv`\n",
    "2. `source .venv/bin/activate`\n",
    "3. `pip install pandas matplotlib jupyter ipykernel`\n",
    "4. `python -m ipykernel install --user --name=.venv`\n",
    "5. `jupyter notebook`\n",
    "\n",
    "Open this notebook and make sure it is running using the `.venv` kernel.\n",
    "\n",
    "\n",
    "## Subsequent Usage\n",
    "The initial setup above only needs performing once. After that, you need only run:\n",
    "\n",
    "1. `source .venv/bin/activate`\n",
    "2. `jupyter notebook`\n",
    "\n",
    "## Files\n",
    "The notebook expects two folders: `input` and `output`.\n",
    "\n",
    "The `input` folder should contain a subfolder for a station, and within that the uncompressed data from a QuinCe export containing at least the \"ICOS OTC Labelling\" format file.\n",
    "\n",
    "The `output` folder can be empty; the notebook will take care of creating the necessary folder structure inside it.\n",
    "\n",
    "## Notebook Initialisation\n",
    "The cell below will initialise the notebook ready for use"
   ]
  },
  {
   "cell_type": "code",
   "execution_count": 1,
   "id": "28b07cd5-6730-4f43-9933-7ddb10e6c000",
   "metadata": {},
   "outputs": [],
   "source": [
    "import matplotlib.pyplot as plt\n",
    "from matplotlib.ticker import MultipleLocator\n",
    "import numpy as np\n",
    "import pandas as pd\n",
    "import matplotlib.dates as mdates\n",
    "import os\n",
    "from scipy.stats import linregress"
   ]
  },
  {
   "cell_type": "markdown",
   "id": "d33e29e3-9337-4d01-89bd-2e2e0bcfa1e2",
   "metadata": {},
   "source": [
    "## Data Setup\n",
    "Fill in the variables below to match the details of the data to be processed.\n",
    "\n",
    "| Variable            | Meaning       |\n",
    "| ------------------- | ------------- |\n",
    "| `station_name`      | The name of the station. There should be a folder with the same name in the `input` folder. |\n",
    "| `dataset`           | The name of the dataset exported from QuinCe. This should be the name of the unzipped export from QuinCe within the folder named after the station name. |\n"
   ]
  },
  {
   "cell_type": "code",
   "execution_count": 5,
   "id": "924a388e-a669-492e-a8d4-c2652c5f6156",
   "metadata": {},
   "outputs": [],
   "source": [
    "station_name = 'Celtic Explorer'\n",
    "dataset = '45CE20240503'"
   ]
  },
  {
   "cell_type": "markdown",
   "id": "6ae77ba3-d8ce-4492-b330-3e81b4917425",
   "metadata": {},
   "source": [
    "## General Setup"
   ]
  },
  {
   "cell_type": "code",
   "execution_count": 6,
   "id": "66f4350c-b39f-490d-8333-2642a5f3a5b6",
   "metadata": {},
   "outputs": [],
   "source": [
    "# Create output folder\n",
    "output_folder = f'output/{station_name}/{dataset}'\n",
    "os.makedirs(output_folder, exist_ok=True)"
   ]
  },
  {
   "cell_type": "markdown",
   "id": "64276d10-b17c-42d1-8d7a-1fa9cb3a94a3",
   "metadata": {},
   "source": [
    "## Load data\n",
    "Load the data raw data files containing data from the gas standard runs, and extract the columns for:\n",
    "\n",
    "- Timestamp\n",
    "- Instrument mode\n",
    "- Measured CO2"
   ]
  },
  {
   "cell_type": "code",
   "execution_count": 33,
   "id": "f7f64f3f-035a-4bc2-b933-52a3ed823768",
   "metadata": {},
   "outputs": [
    {
     "data": {
      "text/html": [
       "<div>\n",
       "<style scoped>\n",
       "    .dataframe tbody tr th:only-of-type {\n",
       "        vertical-align: middle;\n",
       "    }\n",
       "\n",
       "    .dataframe tbody tr th {\n",
       "        vertical-align: top;\n",
       "    }\n",
       "\n",
       "    .dataframe thead th {\n",
       "        text-align: right;\n",
       "    }\n",
       "</style>\n",
       "<table border=\"1\" class=\"dataframe\">\n",
       "  <thead>\n",
       "    <tr style=\"text-align: right;\">\n",
       "      <th></th>\n",
       "      <th>Timestamp</th>\n",
       "      <th>Mode</th>\n",
       "      <th>CO2</th>\n",
       "    </tr>\n",
       "  </thead>\n",
       "  <tbody>\n",
       "    <tr>\n",
       "      <th>0</th>\n",
       "      <td>2024-05-03 12:11:23</td>\n",
       "      <td>STD1z</td>\n",
       "      <td>-0.13</td>\n",
       "    </tr>\n",
       "    <tr>\n",
       "      <th>1</th>\n",
       "      <td>2024-05-03 12:17:10</td>\n",
       "      <td>STD4s</td>\n",
       "      <td>816.97</td>\n",
       "    </tr>\n",
       "    <tr>\n",
       "      <th>2</th>\n",
       "      <td>2024-05-03 12:22:54</td>\n",
       "      <td>STD1</td>\n",
       "      <td>0.11</td>\n",
       "    </tr>\n",
       "    <tr>\n",
       "      <th>3</th>\n",
       "      <td>2024-05-03 12:23:57</td>\n",
       "      <td>STD1</td>\n",
       "      <td>0.10</td>\n",
       "    </tr>\n",
       "    <tr>\n",
       "      <th>4</th>\n",
       "      <td>2024-05-03 12:25:02</td>\n",
       "      <td>STD1</td>\n",
       "      <td>0.05</td>\n",
       "    </tr>\n",
       "    <tr>\n",
       "      <th>...</th>\n",
       "      <td>...</td>\n",
       "      <td>...</td>\n",
       "      <td>...</td>\n",
       "    </tr>\n",
       "    <tr>\n",
       "      <th>82984</th>\n",
       "      <td>2024-09-18 07:11:41</td>\n",
       "      <td>EQU</td>\n",
       "      <td>533.28</td>\n",
       "    </tr>\n",
       "    <tr>\n",
       "      <th>82985</th>\n",
       "      <td>2024-09-18 07:13:10</td>\n",
       "      <td>EQU</td>\n",
       "      <td>534.34</td>\n",
       "    </tr>\n",
       "    <tr>\n",
       "      <th>82986</th>\n",
       "      <td>2024-09-18 07:13:32</td>\n",
       "      <td>FILTER</td>\n",
       "      <td>NaN</td>\n",
       "    </tr>\n",
       "    <tr>\n",
       "      <th>82987</th>\n",
       "      <td>2024-09-18 07:19:37</td>\n",
       "      <td>STD1</td>\n",
       "      <td>0.00</td>\n",
       "    </tr>\n",
       "    <tr>\n",
       "      <th>82988</th>\n",
       "      <td>2024-09-18 07:20:02</td>\n",
       "      <td>SHUT DOWN</td>\n",
       "      <td>NaN</td>\n",
       "    </tr>\n",
       "  </tbody>\n",
       "</table>\n",
       "<p>82989 rows × 3 columns</p>\n",
       "</div>"
      ],
      "text/plain": [
       "                Timestamp       Mode     CO2\n",
       "0     2024-05-03 12:11:23      STD1z   -0.13\n",
       "1     2024-05-03 12:17:10      STD4s  816.97\n",
       "2     2024-05-03 12:22:54       STD1    0.11\n",
       "3     2024-05-03 12:23:57       STD1    0.10\n",
       "4     2024-05-03 12:25:02       STD1    0.05\n",
       "...                   ...        ...     ...\n",
       "82984 2024-09-18 07:11:41        EQU  533.28\n",
       "82985 2024-09-18 07:13:10        EQU  534.34\n",
       "82986 2024-09-18 07:13:32     FILTER     NaN\n",
       "82987 2024-09-18 07:19:37       STD1    0.00\n",
       "82988 2024-09-18 07:20:02  SHUT DOWN     NaN\n",
       "\n",
       "[82989 rows x 3 columns]"
      ]
     },
     "execution_count": 33,
     "metadata": {},
     "output_type": "execute_result"
    }
   ],
   "source": [
    "# Setup info for each raw file\n",
    "separator = '\\t'\n",
    "header_lines = 0\n",
    "\n",
    "# Instrument mode column info\n",
    "mode_column = 'Type'\n",
    "co2_column = 'CO2 um/m'\n",
    "\n",
    "\n",
    "# Make data frame of timestamp, mode, co2\n",
    "# Build from each file 1 at a time\n",
    "df = None\n",
    "in_dir = f'input/{station_name}/{dataset}/raw/'\n",
    "\n",
    "for file in sorted(os.listdir(in_dir)):\n",
    "    if file.endswith('dat.txt'):\n",
    "        #print(file)\n",
    "        file_df = pd.read_csv(os.path.join(in_dir, file), sep=separator, skiprows=header_lines, on_bad_lines='skip')\n",
    "    \n",
    "        # MAKE THE TIMESTAMP COLUMN\n",
    "        file_df = file_df.astype({'PC Date': 'string', 'PC Time': 'string'})\n",
    "        file_df['NOTEBOOK_TIMESTAMP'] = pd.to_datetime(file_df['PC Date'] + ' ' + file_df['PC Time'], format='%d/%m/%y %H:%M:%S')\n",
    "        \n",
    "        # Select the columns we want into their own DataFrame and append it to the main df\n",
    "        selection = file_df[['NOTEBOOK_TIMESTAMP', mode_column, co2_column]]\n",
    "        selection.columns = ['Timestamp', 'Mode', 'CO2']\n",
    "    \n",
    "        df = selection if df is None else df._append(selection, ignore_index=True)\n",
    "\n",
    "df = df.astype({'Mode': 'string', 'CO2': 'float64'})\n",
    "df"
   ]
  },
  {
   "cell_type": "markdown",
   "id": "2368cded-c772-4f17-9405-6e731681dcad",
   "metadata": {},
   "source": [
    "## Prepare data\n",
    "\n",
    "1. Specify which modes are of interest and supply their concentrations.\n",
    "2. Truncate all mode names and remove any that aren't required.\n",
    "3. Calculate the gas standard anomalies\n",
    "4. Calculate time offsets for drift calculation\n",
    "5. Remove large outliers\n"
   ]
  },
  {
   "cell_type": "code",
   "execution_count": 45,
   "id": "5a764ab5-2dfb-419e-99e8-3846a6033f94",
   "metadata": {},
   "outputs": [
    {
     "name": "stdout",
     "output_type": "stream",
     "text": [
      "STD1\n",
      "STD2\n",
      "STD3\n",
      "STD4\n"
     ]
    },
    {
     "data": {
      "text/html": [
       "<div>\n",
       "<style scoped>\n",
       "    .dataframe tbody tr th:only-of-type {\n",
       "        vertical-align: middle;\n",
       "    }\n",
       "\n",
       "    .dataframe tbody tr th {\n",
       "        vertical-align: top;\n",
       "    }\n",
       "\n",
       "    .dataframe thead th {\n",
       "        text-align: right;\n",
       "    }\n",
       "</style>\n",
       "<table border=\"1\" class=\"dataframe\">\n",
       "  <thead>\n",
       "    <tr style=\"text-align: right;\">\n",
       "      <th></th>\n",
       "      <th>Timestamp</th>\n",
       "      <th>Mode</th>\n",
       "      <th>CO2</th>\n",
       "      <th>Anomaly</th>\n",
       "      <th>Absolute_Anomaly</th>\n",
       "      <th>Days</th>\n",
       "    </tr>\n",
       "  </thead>\n",
       "  <tbody>\n",
       "    <tr>\n",
       "      <th>0</th>\n",
       "      <td>2024-05-03 12:11:23</td>\n",
       "      <td>STD1</td>\n",
       "      <td>-0.13</td>\n",
       "      <td>-0.13</td>\n",
       "      <td>0.13</td>\n",
       "      <td>0.000000</td>\n",
       "    </tr>\n",
       "    <tr>\n",
       "      <th>1</th>\n",
       "      <td>2024-05-03 12:17:10</td>\n",
       "      <td>STD4</td>\n",
       "      <td>816.97</td>\n",
       "      <td>-0.13</td>\n",
       "      <td>0.13</td>\n",
       "      <td>0.004016</td>\n",
       "    </tr>\n",
       "    <tr>\n",
       "      <th>2</th>\n",
       "      <td>2024-05-03 12:22:54</td>\n",
       "      <td>STD1</td>\n",
       "      <td>0.11</td>\n",
       "      <td>0.11</td>\n",
       "      <td>0.11</td>\n",
       "      <td>0.007998</td>\n",
       "    </tr>\n",
       "    <tr>\n",
       "      <th>3</th>\n",
       "      <td>2024-05-03 12:23:57</td>\n",
       "      <td>STD1</td>\n",
       "      <td>0.10</td>\n",
       "      <td>0.10</td>\n",
       "      <td>0.10</td>\n",
       "      <td>0.008727</td>\n",
       "    </tr>\n",
       "    <tr>\n",
       "      <th>4</th>\n",
       "      <td>2024-05-03 12:25:02</td>\n",
       "      <td>STD1</td>\n",
       "      <td>0.05</td>\n",
       "      <td>0.05</td>\n",
       "      <td>0.05</td>\n",
       "      <td>0.009479</td>\n",
       "    </tr>\n",
       "    <tr>\n",
       "      <th>...</th>\n",
       "      <td>...</td>\n",
       "      <td>...</td>\n",
       "      <td>...</td>\n",
       "      <td>...</td>\n",
       "      <td>...</td>\n",
       "      <td>...</td>\n",
       "    </tr>\n",
       "    <tr>\n",
       "      <th>17336</th>\n",
       "      <td>2024-09-18 05:38:19</td>\n",
       "      <td>STD2</td>\n",
       "      <td>244.59</td>\n",
       "      <td>0.33</td>\n",
       "      <td>0.33</td>\n",
       "      <td>137.727037</td>\n",
       "    </tr>\n",
       "    <tr>\n",
       "      <th>17337</th>\n",
       "      <td>2024-09-18 05:44:23</td>\n",
       "      <td>STD3</td>\n",
       "      <td>459.07</td>\n",
       "      <td>-0.91</td>\n",
       "      <td>0.91</td>\n",
       "      <td>137.731250</td>\n",
       "    </tr>\n",
       "    <tr>\n",
       "      <th>17338</th>\n",
       "      <td>2024-09-18 05:45:27</td>\n",
       "      <td>STD3</td>\n",
       "      <td>459.04</td>\n",
       "      <td>-0.94</td>\n",
       "      <td>0.94</td>\n",
       "      <td>137.731991</td>\n",
       "    </tr>\n",
       "    <tr>\n",
       "      <th>17339</th>\n",
       "      <td>2024-09-18 05:46:31</td>\n",
       "      <td>STD3</td>\n",
       "      <td>458.99</td>\n",
       "      <td>-0.99</td>\n",
       "      <td>0.99</td>\n",
       "      <td>137.732731</td>\n",
       "    </tr>\n",
       "    <tr>\n",
       "      <th>17340</th>\n",
       "      <td>2024-09-18 07:19:37</td>\n",
       "      <td>STD1</td>\n",
       "      <td>0.00</td>\n",
       "      <td>0.00</td>\n",
       "      <td>0.00</td>\n",
       "      <td>137.797384</td>\n",
       "    </tr>\n",
       "  </tbody>\n",
       "</table>\n",
       "<p>17341 rows × 6 columns</p>\n",
       "</div>"
      ],
      "text/plain": [
       "                Timestamp  Mode     CO2  Anomaly  Absolute_Anomaly        Days\n",
       "0     2024-05-03 12:11:23  STD1   -0.13    -0.13              0.13    0.000000\n",
       "1     2024-05-03 12:17:10  STD4  816.97    -0.13              0.13    0.004016\n",
       "2     2024-05-03 12:22:54  STD1    0.11     0.11              0.11    0.007998\n",
       "3     2024-05-03 12:23:57  STD1    0.10     0.10              0.10    0.008727\n",
       "4     2024-05-03 12:25:02  STD1    0.05     0.05              0.05    0.009479\n",
       "...                   ...   ...     ...      ...               ...         ...\n",
       "17336 2024-09-18 05:38:19  STD2  244.59     0.33              0.33  137.727037\n",
       "17337 2024-09-18 05:44:23  STD3  459.07    -0.91              0.91  137.731250\n",
       "17338 2024-09-18 05:45:27  STD3  459.04    -0.94              0.94  137.731991\n",
       "17339 2024-09-18 05:46:31  STD3  458.99    -0.99              0.99  137.732731\n",
       "17340 2024-09-18 07:19:37  STD1    0.00     0.00              0.00  137.797384\n",
       "\n",
       "[17341 rows x 6 columns]"
      ]
     },
     "execution_count": 45,
     "metadata": {},
     "output_type": "execute_result"
    }
   ],
   "source": [
    "modes_and_concentrations = {\n",
    "    'STD1': 0,\n",
    "    'STD2': 244.26,\n",
    "    'STD3': 459.98,\n",
    "    'STD4': 817.1\n",
    "}\n",
    "\n",
    "outlier_limit = 5\n",
    "\n",
    "plot_modes = {k: v for k, v in modes_and_concentrations.items() if v > 0}\n",
    "\n",
    "# Truncate modes to their base names\n",
    "for mode in modes_and_concentrations.keys():\n",
    "    print(mode)\n",
    "    df['Mode'] = df['Mode'].replace(f'{mode}.*', mode, regex=True)\n",
    "\n",
    "# Remove unneeded rows\n",
    "df = df[df['Mode'].isin(modes_and_concentrations.keys())].reset_index(drop=True)\n",
    "\n",
    "# Calculate the gas standard anomalies\n",
    "df['Anomaly'] = df['CO2'] - df['Mode'].map(modes_and_concentrations)\n",
    "df = df.astype({'Anomaly': 'float64'})\n",
    "df['Absolute_Anomaly'] = abs(df['Anomaly'])\n",
    "\n",
    "# Calculate time offsets\n",
    "df['Days'] = (df['Timestamp'] - df['Timestamp'][0]).apply(lambda x: x.total_seconds() / 86400)\n",
    "\n",
    "# Remove outliers\n",
    "df = df.query(f'Absolute_Anomaly <= {outlier_limit}')\n",
    "\n",
    "df.reset_index()\n",
    "df"
   ]
  },
  {
   "cell_type": "markdown",
   "id": "1339c2cf-9602-4a01-b2b1-d0748ba7cc26",
   "metadata": {},
   "source": [
    "## Stats\n"
   ]
  },
  {
   "cell_type": "markdown",
   "id": "0cbb2261-87cc-4bc4-9839-b4371e81a724",
   "metadata": {},
   "source": [
    "### Distribution of anomalies"
   ]
  },
  {
   "cell_type": "code",
   "execution_count": 52,
   "id": "5968946b-e8b2-451d-a67f-c641e8fb5827",
   "metadata": {},
   "outputs": [
    {
     "name": "stdout",
     "output_type": "stream",
     "text": [
      "STD2: [97.76049033474776, 2.2395096652522395, 0.0]\n",
      "STD3: [90.92000960845544, 9.079990391544559, 0.0]\n",
      "STD4: [97.8843124015305, 2.1156875984695027, 0.0]\n"
     ]
    }
   ],
   "source": [
    "thresholds = [2, 5, 1000000]\n",
    "\n",
    "for mode in plot_modes:\n",
    "    mode_data = df[df['Mode'] == mode]\n",
    "\n",
    "    results = list()\n",
    "    last_total = 0\n",
    "\n",
    "    for threshold in thresholds:\n",
    "        in_threshold = mode_data[mode_data['Absolute_Anomaly'] <= threshold]\n",
    "\n",
    "        threshold_records = len(in_threshold) - last_total\n",
    "\n",
    "        threshold_fraction = threshold_records / len(mode_data)\n",
    "\n",
    "        results.append(threshold_fraction * 100)\n",
    "\n",
    "        last_total += threshold_records\n",
    "        \n",
    "\n",
    "    line = f'{mode}: {results}'\n",
    "\n",
    "    print(line)\n"
   ]
  },
  {
   "cell_type": "markdown",
   "id": "79fa981e-1b98-40a2-8a5e-a3413d20a0c9",
   "metadata": {},
   "source": [
    "# Calculate Drift\n",
    "Calculate the drift for each gas standard over time\n"
   ]
  },
  {
   "cell_type": "code",
   "execution_count": 53,
   "id": "166ced75-3da9-4cf6-9220-21f931928c8f",
   "metadata": {},
   "outputs": [
    {
     "name": "stdout",
     "output_type": "stream",
     "text": [
      "STD2 -0.0000 0.90\n",
      "STD3 -0.0001 0.63\n",
      "STD4 0.0013 0.00\n"
     ]
    }
   ],
   "source": [
    "drift = dict()\n",
    "\n",
    "for mode in plot_modes.keys():\n",
    "    \n",
    "    mask = df['Mode'] == mode\n",
    "    fit = linregress(df.loc[mask, 'Days'], df.loc[mask, 'Anomaly'])\n",
    "    drift[mode] = fit\n",
    "\n",
    "    print(f'{mode} {fit.slope:.4f} {fit.pvalue:.2f}')    \n"
   ]
  },
  {
   "cell_type": "markdown",
   "id": "d04b18b4-0229-4955-b6c6-542cda68d5fe",
   "metadata": {},
   "source": [
    "# Plot Setup"
   ]
  },
  {
   "cell_type": "markdown",
   "id": "8c737c47-b15a-4018-91b7-efa2769041bc",
   "metadata": {},
   "source": [
    "### Plot anomalies over time"
   ]
  },
  {
   "cell_type": "code",
   "execution_count": 54,
   "id": "dc6f4626-1bd0-42b3-9f7d-b5ea304e2751",
   "metadata": {},
   "outputs": [],
   "source": [
    "plot_modes = {k: v for k, v in modes_and_concentrations.items() if v > 0}\n",
    "plot_colours = ['darkred', 'blue', 'orange']\n"
   ]
  },
  {
   "cell_type": "code",
   "execution_count": 86,
   "id": "7a61bbf8-4981-4256-b6f5-03b11e33672b",
   "metadata": {},
   "outputs": [
    {
     "data": {
      "text/plain": [
       "<Figure size 640x480 with 0 Axes>"
      ]
     },
     "metadata": {},
     "output_type": "display_data"
    },
    {
     "data": {
      "image/png": "[encoded data removed]",
      "text/plain": [
       "<Figure size 640x480 with 3 Axes>"
      ]
     },
     "metadata": {},
     "output_type": "display_data"
    }
   ],
   "source": [
    "y_ranges = [[-5.5, 2], [-5.1, 1], [-6, 4.5]]\n",
    "y_ticks = [1.5, 1.5, 2]\n",
    "\n",
    "plt.figure()\n",
    "\n",
    "plot_index = 0\n",
    "fig, axs = plt.subplots(len(plot_modes), 1)\n",
    "\n",
    "for mode in plot_modes.keys():\n",
    "    \n",
    "    mask = df['Mode'] == mode\n",
    "    axs[plot_index].scatter(df.loc[mask, 'Timestamp'], df.loc[mask, 'Anomaly'],\n",
    "                            color=plot_colours[plot_index], s=2)\n",
    "    \n",
    "    slope = drift[mode].slope\n",
    "    intercept = drift[mode].intercept\n",
    "    \n",
    "    \n",
    "    axs[plot_index].plot([df['Timestamp'][0], df['Timestamp'].iloc[-1]],\n",
    "                         [intercept, slope * df['Days'].iloc[-1] + intercept],\n",
    "                         color='red', linestyle='dashed')\n",
    "    \n",
    "    axs[plot_index].set_ylim(y_ranges[plot_index])\n",
    "    axs[plot_index].grid(color='#dddddd')\n",
    "    axs[plot_index].yaxis.set_major_locator(MultipleLocator(y_ticks[plot_index]))\n",
    "\n",
    "    axs[plot_index].set_title(f'{mode} ({modes_and_concentrations[mode]})', loc='right', size=8)\n",
    "    \n",
    "    \n",
    "    if plot_index < len(plot_modes) - 1:\n",
    "       axs[plot_index].set_xticklabels('')\n",
    "    else:\n",
    "        locator = mdates.AutoDateLocator(minticks=3, maxticks=7)\n",
    "        formatter = mdates.ConciseDateFormatter(locator)\n",
    "        axs[plot_index].xaxis.set_major_formatter(formatter)\n",
    "\n",
    "    plot_index += 1\n",
    "\n",
    "\n",
    "fig.supylabel('Calibration anomaly [ppm]')\n",
    "\n",
    "output_path = f'{output_folder}/gas_standard_anomalies_time.png'\n",
    "plt.savefig(output_path, dpi=400, bbox_inches='tight')\n",
    "\n",
    "plt.show()"
   ]
  },
  {
   "cell_type": "markdown",
   "id": "1c03f75d-e67d-402f-9f6f-18536bde6cf5",
   "metadata": {},
   "source": [
    "### Box Plots"
   ]
  },
  {
   "cell_type": "code",
   "execution_count": 71,
   "id": "945897a2-707f-4382-acd0-011b288b16e9",
   "metadata": {},
   "outputs": [
    {
     "data": {
      "image/png": "[encoded data removed]",
      "text/plain": [
       "<Figure size 800x600 with 1 Axes>"
      ]
     },
     "metadata": {},
     "output_type": "display_data"
    }
   ],
   "source": [
    "box_plot_data = list()\n",
    "\n",
    "for mode in plot_modes.keys():\n",
    "    mask = df['Mode'] == mode\n",
    "    box_plot_data.append(df.loc[mask, 'Anomaly'])\n",
    "\n",
    "plt.figure(figsize=(8, 6))\n",
    "\n",
    "plt.boxplot(box_plot_data)\n",
    "plt.ylim(-5.5, 5)\n",
    "plt.ylabel('Calibration anomaly [ppm]')\n",
    "plt.xticks(range(1, len(plot_modes.keys()) + 1), labels=plot_modes.keys())\n",
    "plt.grid(axis='y', color='#dddddd')\n",
    "\n",
    "output_path = f'{output_folder}/gas_standard_anomalies_boxplot.png'\n",
    "plt.savefig(output_path, dpi=400, bbox_inches='tight')\n",
    "\n",
    "plt.show()"
   ]
  },
  {
   "cell_type": "code",
   "execution_count": null,
   "id": "8d90fce7-221b-460a-90d3-374cbd140242",
   "metadata": {},
   "outputs": [],
   "source": []
  }
 ],
 "metadata": {
  "kernelspec": {
   "display_name": "Python 3 (ipykernel)",
   "language": "python",
   "name": "python3"
  },
  "language_info": {
   "codemirror_mode": {
    "name": "ipython",
    "version": 3
   },
   "file_extension": ".py",
   "mimetype": "text/x-python",
   "name": "python",
   "nbconvert_exporter": "python",
   "pygments_lexer": "ipython3",
   "version": "3.12.3"
  }
 },
 "nbformat": 4,
 "nbformat_minor": 5
}
